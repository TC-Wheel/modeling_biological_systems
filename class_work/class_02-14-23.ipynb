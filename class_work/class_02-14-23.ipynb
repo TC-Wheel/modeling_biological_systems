{
 "cells": [
  {
   "attachments": {},
   "cell_type": "markdown",
   "metadata": {},
   "source": [
    "Enzyme Kinetics Canvas Code:"
   ]
  },
  {
   "cell_type": "code",
   "execution_count": 1,
   "metadata": {},
   "outputs": [
    {
     "ename": "ValueError",
     "evalue": "not enough values to unpack (expected 5, got 3)",
     "output_type": "error",
     "traceback": [
      "\u001b[0;31m---------------------------------------------------------------------------\u001b[0m",
      "\u001b[0;31mValueError\u001b[0m                                Traceback (most recent call last)",
      "Cell \u001b[0;32mIn[1], line 29\u001b[0m\n\u001b[1;32m     27\u001b[0m y0 \u001b[39m=\u001b[39m [\u001b[39m1\u001b[39m,\u001b[39m0\u001b[39m,\u001b[39m0\u001b[39m] \u001b[39m# s, c, p #y0 must be the same size as the return in the function...?\u001b[39;00m\n\u001b[1;32m     28\u001b[0m \u001b[39m#y0 is the input... \u001b[39;00m\n\u001b[0;32m---> 29\u001b[0m sol \u001b[39m=\u001b[39m solve_ivp(enzyme_kinetics_ODE, tspan, y0)\n\u001b[1;32m     30\u001b[0m \u001b[39m# plot the results\u001b[39;00m\n\u001b[1;32m     31\u001b[0m plt\u001b[39m.\u001b[39mfigure(figsize\u001b[39m=\u001b[39m(\u001b[39m8\u001b[39m,\u001b[39m6\u001b[39m))\n",
      "File \u001b[0;32m~/github/modeling_biological_systems/py311venv/lib/python3.11/site-packages/scipy/integrate/_ivp/ivp.py:557\u001b[0m, in \u001b[0;36msolve_ivp\u001b[0;34m(fun, t_span, y0, method, t_eval, dense_output, events, vectorized, args, **options)\u001b[0m\n\u001b[1;32m    554\u001b[0m \u001b[39mif\u001b[39;00m method \u001b[39min\u001b[39;00m METHODS:\n\u001b[1;32m    555\u001b[0m     method \u001b[39m=\u001b[39m METHODS[method]\n\u001b[0;32m--> 557\u001b[0m solver \u001b[39m=\u001b[39m method(fun, t0, y0, tf, vectorized\u001b[39m=\u001b[39;49mvectorized, \u001b[39m*\u001b[39;49m\u001b[39m*\u001b[39;49moptions)\n\u001b[1;32m    559\u001b[0m \u001b[39mif\u001b[39;00m t_eval \u001b[39mis\u001b[39;00m \u001b[39mNone\u001b[39;00m:\n\u001b[1;32m    560\u001b[0m     ts \u001b[39m=\u001b[39m [t0]\n",
      "File \u001b[0;32m~/github/modeling_biological_systems/py311venv/lib/python3.11/site-packages/scipy/integrate/_ivp/rk.py:94\u001b[0m, in \u001b[0;36mRungeKutta.__init__\u001b[0;34m(self, fun, t0, y0, t_bound, max_step, rtol, atol, vectorized, first_step, **extraneous)\u001b[0m\n\u001b[1;32m     92\u001b[0m \u001b[39mself\u001b[39m\u001b[39m.\u001b[39mmax_step \u001b[39m=\u001b[39m validate_max_step(max_step)\n\u001b[1;32m     93\u001b[0m \u001b[39mself\u001b[39m\u001b[39m.\u001b[39mrtol, \u001b[39mself\u001b[39m\u001b[39m.\u001b[39matol \u001b[39m=\u001b[39m validate_tol(rtol, atol, \u001b[39mself\u001b[39m\u001b[39m.\u001b[39mn)\n\u001b[0;32m---> 94\u001b[0m \u001b[39mself\u001b[39m\u001b[39m.\u001b[39mf \u001b[39m=\u001b[39m \u001b[39mself\u001b[39;49m\u001b[39m.\u001b[39;49mfun(\u001b[39mself\u001b[39;49m\u001b[39m.\u001b[39;49mt, \u001b[39mself\u001b[39;49m\u001b[39m.\u001b[39;49my)\n\u001b[1;32m     95\u001b[0m \u001b[39mif\u001b[39;00m first_step \u001b[39mis\u001b[39;00m \u001b[39mNone\u001b[39;00m:\n\u001b[1;32m     96\u001b[0m     \u001b[39mself\u001b[39m\u001b[39m.\u001b[39mh_abs \u001b[39m=\u001b[39m select_initial_step(\n\u001b[1;32m     97\u001b[0m         \u001b[39mself\u001b[39m\u001b[39m.\u001b[39mfun, \u001b[39mself\u001b[39m\u001b[39m.\u001b[39mt, \u001b[39mself\u001b[39m\u001b[39m.\u001b[39my, \u001b[39mself\u001b[39m\u001b[39m.\u001b[39mf, \u001b[39mself\u001b[39m\u001b[39m.\u001b[39mdirection,\n\u001b[1;32m     98\u001b[0m         \u001b[39mself\u001b[39m\u001b[39m.\u001b[39merror_estimator_order, \u001b[39mself\u001b[39m\u001b[39m.\u001b[39mrtol, \u001b[39mself\u001b[39m\u001b[39m.\u001b[39matol)\n",
      "File \u001b[0;32m~/github/modeling_biological_systems/py311venv/lib/python3.11/site-packages/scipy/integrate/_ivp/base.py:138\u001b[0m, in \u001b[0;36mOdeSolver.__init__.<locals>.fun\u001b[0;34m(t, y)\u001b[0m\n\u001b[1;32m    136\u001b[0m \u001b[39mdef\u001b[39;00m \u001b[39mfun\u001b[39m(t, y):\n\u001b[1;32m    137\u001b[0m     \u001b[39mself\u001b[39m\u001b[39m.\u001b[39mnfev \u001b[39m+\u001b[39m\u001b[39m=\u001b[39m \u001b[39m1\u001b[39m\n\u001b[0;32m--> 138\u001b[0m     \u001b[39mreturn\u001b[39;00m \u001b[39mself\u001b[39;49m\u001b[39m.\u001b[39;49mfun_single(t, y)\n",
      "File \u001b[0;32m~/github/modeling_biological_systems/py311venv/lib/python3.11/site-packages/scipy/integrate/_ivp/base.py:20\u001b[0m, in \u001b[0;36mcheck_arguments.<locals>.fun_wrapped\u001b[0;34m(t, y)\u001b[0m\n\u001b[1;32m     19\u001b[0m \u001b[39mdef\u001b[39;00m \u001b[39mfun_wrapped\u001b[39m(t, y):\n\u001b[0;32m---> 20\u001b[0m     \u001b[39mreturn\u001b[39;00m np\u001b[39m.\u001b[39masarray(fun(t, y), dtype\u001b[39m=\u001b[39mdtype)\n",
      "Cell \u001b[0;32mIn[1], line 5\u001b[0m, in \u001b[0;36menzyme_kinetics_ODE\u001b[0;34m(t, y)\u001b[0m\n\u001b[1;32m      4\u001b[0m \u001b[39mdef\u001b[39;00m \u001b[39menzyme_kinetics_ODE\u001b[39m(t, y):\n\u001b[0;32m----> 5\u001b[0m     E,S,ES,EP,P \u001b[39m=\u001b[39m y \u001b[39m# unpack y\u001b[39;00m\n\u001b[1;32m      6\u001b[0m     \u001b[39m# parameters\u001b[39;00m\n\u001b[1;32m      7\u001b[0m     k1  \u001b[39m=\u001b[39m \u001b[39m1\u001b[39m \u001b[39m# 1/(mM s)\u001b[39;00m\n",
      "\u001b[0;31mValueError\u001b[0m: not enough values to unpack (expected 5, got 3)"
     ]
    }
   ],
   "source": [
    "from scipy.integrate import solve_ivp\n",
    "import matplotlib.pyplot as plt\n",
    "# dydt is written as a function (like ode45 in MATLAB)\n",
    "def enzyme_kinetics_ODE(t, y):\n",
    "    E,S,ES,EP,P = y # unpack y\n",
    "    # parameters\n",
    "    k1  = 1 # 1/(mM s)\n",
    "    kn1 = 1 # 1/s\n",
    "    k2  = 1 # 1/s\n",
    "    kn2 = 1 # 1/s\n",
    "    k3  = 1 # 1/s\n",
    "    kn3 = 1 # 1/(mM s)\n",
    "    # differential equations\n",
    "    dEdt  = - k1*E*S + kn1*ES                  + k3*EP - kn3*E*P\n",
    "    dSdt  = - k1*E*S + kn1*ES \n",
    "    dESdt = + k1*E*S - kn1*ES - k2*ES + kn2*EP\n",
    "    dEPdt =                   + k2*ES - kn2*EP - k3*EP + kn3*E*P\n",
    "    dPdt  =                                    + k3*EP - kn3*E*P\n",
    "    dydt = [dEdt,dSdt,dESdt,dEPdt,dPdt] # repack dydt\n",
    "    return dydt\n",
    "# the time interval of the simulation\n",
    "tspan = [0,10]\n",
    "# set initial conditions\n",
    "y0 = [1,1,0,0,0] # E, S, ES, EP, P\n",
    "# integrate the ODE\n",
    "\n",
    "sol = solve_ivp(enzyme_kinetics_ODE, tspan, y0)\n",
    "# plot the results\n",
    "plt.figure(figsize=(8,6))\n",
    "plt.plot(sol.t,sol.y.T,linewidth=3)\n",
    "plt.legend(['E','S','ES','EP','P'])\n",
    "plt.xlabel('Time')\n",
    "plt.ylabel('Concentration')\n",
    "plt.show()\n",
    "\n",
    "\n"
   ]
  }
 ],
 "metadata": {
  "kernelspec": {
   "display_name": "py311venv",
   "language": "python",
   "name": "python3"
  },
  "language_info": {
   "codemirror_mode": {
    "name": "ipython",
    "version": 3
   },
   "file_extension": ".py",
   "mimetype": "text/x-python",
   "name": "python",
   "nbconvert_exporter": "python",
   "pygments_lexer": "ipython3",
   "version": "3.11.1"
  },
  "orig_nbformat": 4,
  "vscode": {
   "interpreter": {
    "hash": "7f3b638bb679a627aeac5d847359d8682e5603599e42e0d11e5755caef587bc0"
   }
  }
 },
 "nbformat": 4,
 "nbformat_minor": 2
}
