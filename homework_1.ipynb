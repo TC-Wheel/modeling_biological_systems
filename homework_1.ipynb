{
 "cells": [
  {
   "attachments": {},
   "cell_type": "markdown",
   "metadata": {},
   "source": [
    "# Python Basics"
   ]
  },
  {
   "attachments": {},
   "cell_type": "markdown",
   "metadata": {},
   "source": [
    "#### 1.1 - Hello World"
   ]
  },
  {
   "attachments": {},
   "cell_type": "markdown",
   "metadata": {},
   "source": [
    "Take a screenshot of the Spyder window, save it as “BC570_HW1_1a.png”,\n",
    "and submit it on Canvas."
   ]
  },
  {
   "cell_type": "code",
   "execution_count": 1,
   "metadata": {},
   "outputs": [
    {
     "name": "stdout",
     "output_type": "stream",
     "text": [
      "Hello, world! I am learning how to use Python!\n",
      "Hello, world!\n",
      "I am learning how to use Python!\n",
      "Hello, world! I am learning how to use Python!\n",
      "After comments\n"
     ]
    }
   ],
   "source": [
    "print('Hello, world!', 'I am learning how to use Python!')\n",
    "hello_world_message = 'Hello, world!'\n",
    "a = 'I am learning how to use Python!'\n",
    "print(hello_world_message)\n",
    "print(a)\n",
    "print(hello_world_message, a)\n",
    "# This is a comment.\n",
    "# Python ignores anything on the line that's behind the hash sign.\n",
    "print('After comments') # It can also be used on the same line as code."
   ]
  },
  {
   "cell_type": "code",
   "execution_count": 2,
   "metadata": {},
   "outputs": [
    {
     "name": "stdout",
     "output_type": "stream",
     "text": [
      "hello world\n"
     ]
    }
   ],
   "source": [
    "print('hello world')"
   ]
  },
  {
   "attachments": {},
   "cell_type": "markdown",
   "metadata": {},
   "source": [
    "#### 1.2 - Numeric variables"
   ]
  },
  {
   "cell_type": "code",
   "execution_count": 4,
   "metadata": {},
   "outputs": [
    {
     "name": "stdout",
     "output_type": "stream",
     "text": [
      "number of atoms in 1.0 grams of oxygen = 3.7640727545471587e+22\n"
     ]
    }
   ],
   "source": [
    "avs_numb = 6.02214*10**23\n",
    "grams = 1.0\n",
    "oxygen_mass = 15.999\n",
    "\n",
    "atoms = (grams/oxygen_mass) * avs_numb\n",
    "\n",
    "print(f'number of atoms in {grams} grams of oxygen = {atoms}')"
   ]
  },
  {
   "attachments": {},
   "cell_type": "markdown",
   "metadata": {},
   "source": [
    "Calculate the volume of a sphere with radius 5"
   ]
  },
  {
   "cell_type": "code",
   "execution_count": 6,
   "metadata": {},
   "outputs": [
    {
     "name": "stdout",
     "output_type": "stream",
     "text": [
      "sphere_area = 314.1592653589793 units cubed\n"
     ]
    }
   ],
   "source": [
    "import math\n",
    "\n",
    "r = 5.0\n",
    "sphere_area = 4*math.pi*r**2\n",
    "print(f'{sphere_area = } units cubed')"
   ]
  },
  {
   "attachments": {},
   "cell_type": "markdown",
   "metadata": {},
   "source": [
    "Write a function that calculates the volume of a sphere for any input radius"
   ]
  },
  {
   "cell_type": "code",
   "execution_count": null,
   "metadata": {},
   "outputs": [],
   "source": []
  }
 ],
 "metadata": {
  "kernelspec": {
   "display_name": "py311venv",
   "language": "python",
   "name": "python3"
  },
  "language_info": {
   "codemirror_mode": {
    "name": "ipython",
    "version": 3
   },
   "file_extension": ".py",
   "mimetype": "text/x-python",
   "name": "python",
   "nbconvert_exporter": "python",
   "pygments_lexer": "ipython3",
   "version": "3.11.1 (v3.11.1:a7a450f84a, Dec  6 2022, 15:24:06) [Clang 13.0.0 (clang-1300.0.29.30)]"
  },
  "orig_nbformat": 4,
  "vscode": {
   "interpreter": {
    "hash": "7f3b638bb679a627aeac5d847359d8682e5603599e42e0d11e5755caef587bc0"
   }
  }
 },
 "nbformat": 4,
 "nbformat_minor": 2
}
