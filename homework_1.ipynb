{
 "cells": [
  {
   "attachments": {},
   "cell_type": "markdown",
   "metadata": {},
   "source": [
    "# Homework 1"
   ]
  },
  {
   "attachments": {},
   "cell_type": "markdown",
   "metadata": {},
   "source": [
    "## Section 1 - Python Basics"
   ]
  },
  {
   "attachments": {},
   "cell_type": "markdown",
   "metadata": {},
   "source": [
    "#### 1.1 - Hello World"
   ]
  },
  {
   "attachments": {},
   "cell_type": "markdown",
   "metadata": {},
   "source": [
    "Take a screenshot of the Spyder window, save it as “BC570_HW1_1a.png”,\n",
    "and submit it on Canvas."
   ]
  },
  {
   "cell_type": "code",
   "execution_count": 31,
   "metadata": {},
   "outputs": [
    {
     "name": "stdout",
     "output_type": "stream",
     "text": [
      "Hello, world! I am learning how to use Python!\n",
      "Hello, world!\n",
      "I am learning how to use Python!\n",
      "Hello, world! I am learning how to use Python!\n",
      "After comments\n"
     ]
    }
   ],
   "source": [
    "print('Hello, world!', 'I am learning how to use Python!')\n",
    "hello_world_message = 'Hello, world!'\n",
    "a = 'I am learning how to use Python!'\n",
    "print(hello_world_message)\n",
    "print(a)\n",
    "print(hello_world_message, a)\n",
    "# This is a comment.\n",
    "# Python ignores anything on the line that's behind the hash sign.\n",
    "print('After comments') # It can also be used on the same line as code."
   ]
  },
  {
   "cell_type": "code",
   "execution_count": 32,
   "metadata": {},
   "outputs": [
    {
     "name": "stdout",
     "output_type": "stream",
     "text": [
      "hello world\n"
     ]
    }
   ],
   "source": [
    "print('hello world')"
   ]
  },
  {
   "attachments": {},
   "cell_type": "markdown",
   "metadata": {},
   "source": [
    "#### 1.2 - Numeric variables"
   ]
  },
  {
   "attachments": {},
   "cell_type": "markdown",
   "metadata": {},
   "source": [
    "Make a new file and play around with arithmetic and printing numbers. Write down what you get from the following operations done in Python:  \n",
    "5 + 5  \n",
    "5.0 + 5.5  \n",
    "'5' + '5'  \n",
    "5 / 2  \n",
    "5 // 2  \n",
    "4 // 3  \n",
    "5 // 3  \n",
    "6 // 3  \n",
    "5 % 2  \n",
    "5 ** 2  \n",
    "5 ** (1/2)  \n",
    "5 ** -2  \n",
    "5 + '5'  "
   ]
  },
  {
   "cell_type": "code",
   "execution_count": 33,
   "metadata": {},
   "outputs": [
    {
     "data": {
      "text/plain": [
       "10"
      ]
     },
     "execution_count": 33,
     "metadata": {},
     "output_type": "execute_result"
    }
   ],
   "source": [
    "5+5"
   ]
  },
  {
   "cell_type": "code",
   "execution_count": 34,
   "metadata": {},
   "outputs": [
    {
     "data": {
      "text/plain": [
       "10.5"
      ]
     },
     "execution_count": 34,
     "metadata": {},
     "output_type": "execute_result"
    }
   ],
   "source": [
    "5.0 + 5.5"
   ]
  },
  {
   "cell_type": "code",
   "execution_count": 35,
   "metadata": {},
   "outputs": [
    {
     "data": {
      "text/plain": [
       "'55'"
      ]
     },
     "execution_count": 35,
     "metadata": {},
     "output_type": "execute_result"
    }
   ],
   "source": [
    "'5' + '5'"
   ]
  },
  {
   "cell_type": "code",
   "execution_count": 36,
   "metadata": {},
   "outputs": [
    {
     "data": {
      "text/plain": [
       "2.5"
      ]
     },
     "execution_count": 36,
     "metadata": {},
     "output_type": "execute_result"
    }
   ],
   "source": [
    "5/2"
   ]
  },
  {
   "cell_type": "code",
   "execution_count": 37,
   "metadata": {},
   "outputs": [
    {
     "data": {
      "text/plain": [
       "2"
      ]
     },
     "execution_count": 37,
     "metadata": {},
     "output_type": "execute_result"
    }
   ],
   "source": [
    "5//2"
   ]
  },
  {
   "cell_type": "code",
   "execution_count": 38,
   "metadata": {},
   "outputs": [
    {
     "data": {
      "text/plain": [
       "1"
      ]
     },
     "execution_count": 38,
     "metadata": {},
     "output_type": "execute_result"
    }
   ],
   "source": [
    "4//3"
   ]
  },
  {
   "cell_type": "code",
   "execution_count": 39,
   "metadata": {},
   "outputs": [
    {
     "data": {
      "text/plain": [
       "1"
      ]
     },
     "execution_count": 39,
     "metadata": {},
     "output_type": "execute_result"
    }
   ],
   "source": [
    "5//3"
   ]
  },
  {
   "cell_type": "code",
   "execution_count": 40,
   "metadata": {},
   "outputs": [
    {
     "data": {
      "text/plain": [
       "2"
      ]
     },
     "execution_count": 40,
     "metadata": {},
     "output_type": "execute_result"
    }
   ],
   "source": [
    "6//3"
   ]
  },
  {
   "cell_type": "code",
   "execution_count": 41,
   "metadata": {},
   "outputs": [
    {
     "data": {
      "text/plain": [
       "1"
      ]
     },
     "execution_count": 41,
     "metadata": {},
     "output_type": "execute_result"
    }
   ],
   "source": [
    "5%2"
   ]
  },
  {
   "cell_type": "code",
   "execution_count": 42,
   "metadata": {},
   "outputs": [
    {
     "data": {
      "text/plain": [
       "2.23606797749979"
      ]
     },
     "execution_count": 42,
     "metadata": {},
     "output_type": "execute_result"
    }
   ],
   "source": [
    "5**(1/2)"
   ]
  },
  {
   "cell_type": "code",
   "execution_count": 43,
   "metadata": {},
   "outputs": [
    {
     "data": {
      "text/plain": [
       "0.04"
      ]
     },
     "execution_count": 43,
     "metadata": {},
     "output_type": "execute_result"
    }
   ],
   "source": [
    "5**-2"
   ]
  },
  {
   "cell_type": "code",
   "execution_count": 44,
   "metadata": {},
   "outputs": [
    {
     "ename": "TypeError",
     "evalue": "unsupported operand type(s) for +: 'int' and 'str'",
     "output_type": "error",
     "traceback": [
      "\u001b[1;31m---------------------------------------------------------------------------\u001b[0m",
      "\u001b[1;31mTypeError\u001b[0m                                 Traceback (most recent call last)",
      "Cell \u001b[1;32mIn[44], line 1\u001b[0m\n\u001b[1;32m----> 1\u001b[0m \u001b[39m5\u001b[39;49m \u001b[39m+\u001b[39;49m \u001b[39m'\u001b[39;49m\u001b[39m5\u001b[39;49m\u001b[39m'\u001b[39;49m\n",
      "\u001b[1;31mTypeError\u001b[0m: unsupported operand type(s) for +: 'int' and 'str'"
     ]
    }
   ],
   "source": [
    "5 + '5'"
   ]
  },
  {
   "attachments": {},
   "cell_type": "markdown",
   "metadata": {},
   "source": [
    "#### 1.3 - Lists"
   ]
  },
  {
   "attachments": {},
   "cell_type": "markdown",
   "metadata": {},
   "source": [
    "In the code block below, write Python code to  \n",
    "1. print a List containing the integers 1, 2, 3,  \n",
    "2. print a List containing the integers 1, 2, 3, 4,  \n",
    "3. print a List containing the integers 1, 3, 4.  \n",
    "The code should only make one List to do this.  "
   ]
  },
  {
   "cell_type": "code",
   "execution_count": null,
   "metadata": {},
   "outputs": [
    {
     "name": "stdout",
     "output_type": "stream",
     "text": [
      "my_list = [1, 2, 3]\n",
      "my_list = [1, 2, 3, 4]\n",
      "my_list = [1, 3, 4]\n"
     ]
    }
   ],
   "source": [
    "my_list = [1,2,3] # make a list containing 1, 2, 3\n",
    "print(f'{my_list = }')# print the list\n",
    "my_list.append(4) # add 4 to the end of the list\n",
    "print(f'{my_list = }') # print the list\n",
    "my_list.remove(2) # remove 2 from the list\n",
    "print(f'{my_list = }') # print the list"
   ]
  },
  {
   "attachments": {},
   "cell_type": "markdown",
   "metadata": {},
   "source": [
    "#### 1.4 - For Loops"
   ]
  },
  {
   "attachments": {},
   "cell_type": "markdown",
   "metadata": {},
   "source": [
    "Write the code to print the integers 1 through 7, each on a new line."
   ]
  },
  {
   "cell_type": "code",
   "execution_count": null,
   "metadata": {},
   "outputs": [
    {
     "name": "stdout",
     "output_type": "stream",
     "text": [
      "1\n",
      "2\n",
      "3\n",
      "4\n",
      "5\n",
      "6\n",
      "7\n"
     ]
    }
   ],
   "source": [
    "num_list = [1,2,3,4,5,6,7] # make a list containing 1 through 7\n",
    "for number in num_list: # for loop over the list\n",
    "    print(number) # print the loop variable"
   ]
  },
  {
   "attachments": {},
   "cell_type": "markdown",
   "metadata": {},
   "source": [
    "## Section 2 - Differential Equations"
   ]
  },
  {
   "attachments": {},
   "cell_type": "markdown",
   "metadata": {},
   "source": [
    "#### a) Find the analytical solution for the differential equation dx/dt = −x with an initial value of 1. (Show your work.)"
   ]
  },
  {
   "attachments": {},
   "cell_type": "markdown",
   "metadata": {},
   "source": [
    "dx/dt=-x \n",
    "x is the antiderivative of -x with respect to time  \n",
    "x = int(-x*dt)  \n",
    "apply the power rule (take the constant out first)  \n",
    "-((t^2)/2)  \n",
    "add the constant back in  \n",
    "x = -((t^2)/2) + C  \n",
    "  \n",
    "the initial value = 1, so x(0) = 1 , which means when x=0 then t=1  \n",
    "0 = -((1^2)/2) + C   \n",
    "now we solve for C  \n",
    "simplify   \n",
    "0 = -1/2 + C  \n",
    "solve for C  \n",
    "C = 1/2   \n",
    "  \n",
    "so now we plug that back into our general solution  \n",
    "x = -((t^2)/2) + 1/2  \n",
    "and that's our final equation  "
   ]
  },
  {
   "attachments": {},
   "cell_type": "markdown",
   "metadata": {},
   "source": [
    "#### b) Graph the solution to the IVP you found in part a. Don’t worry about specific numbers for the t-axis."
   ]
  },
  {
   "cell_type": "code",
   "execution_count": null,
   "metadata": {},
   "outputs": [],
   "source": [
    "import numpy as np\n",
    "from matplotlib import pyplot as plt"
   ]
  },
  {
   "cell_type": "code",
   "execution_count": null,
   "metadata": {},
   "outputs": [
    {
     "data": {
      "text/plain": [
       "[<matplotlib.lines.Line2D at 0x162790ae410>]"
      ]
     },
     "execution_count": 30,
     "metadata": {},
     "output_type": "execute_result"
    },
    {
     "data": {
      "image/png": "[encoded data removed]",
      "text/plain": [
       "<Figure size 640x480 with 1 Axes>"
      ]
     },
     "metadata": {},
     "output_type": "display_data"
    }
   ],
   "source": [
    "t = np.linspace(0, 10, 100)\n",
    "x = -((t**2)/2) + 1/2\n",
    "\n",
    "plt.plot(t, x)"
   ]
  },
  {
   "attachments": {},
   "cell_type": "markdown",
   "metadata": {},
   "source": [
    "## Section 3 - Chemical Reaction Networks Part 1"
   ]
  },
  {
   "attachments": {},
   "cell_type": "markdown",
   "metadata": {},
   "source": [
    "#### a) Write the differential equation modeling the chemical reaction network k0−→A k1−→ with k0 = 2 μM/s and k1 = 1 s^−1."
   ]
  },
  {
   "attachments": {},
   "cell_type": "markdown",
   "metadata": {},
   "source": [
    "k0-k1*a \n",
    "k0 = 2 microM/sec\n",
    "k1 = 1 s**-1\n",
    "\n",
    "answers?\n",
    "k0 is zero-th order -- this is because it is not rate limiting. it is constant\n",
    "k1 is first order -- because it depends linearly on the concentration of of A\n",
    "\n",
    "a differential equation for it:\n",
    "dA/dT = K_0 - K_1[A]"
   ]
  },
  {
   "attachments": {},
   "cell_type": "markdown",
   "metadata": {},
   "source": [
    "#### b) Solve the equation you found in part a. (Show your work)."
   ]
  },
  {
   "cell_type": "code",
   "execution_count": null,
   "metadata": {},
   "outputs": [],
   "source": [
    "\n",
    "\n",
    "#determine the steady state... (What is the limit of the equation?-- What happens as time goes to infinity?)\n",
    "#[A]=K_0/K_1\n",
    "\n",
    "#solve the ODE (determine A as a function of time)\n"
   ]
  }
 ],
 "metadata": {
  "kernelspec": {
   "display_name": "py311venv",
   "language": "python",
   "name": "python3"
  },
  "language_info": {
   "codemirror_mode": {
    "name": "ipython",
    "version": 3
   },
   "file_extension": ".py",
   "mimetype": "text/x-python",
   "name": "python",
   "nbconvert_exporter": "python",
   "pygments_lexer": "ipython3",
   "version": "3.10.5"
  },
  "orig_nbformat": 4,
  "vscode": {
   "interpreter": {
    "hash": "87704314012300030b837ecc89f805e07af8c57c7431e7fe27c1ac1eb186eb20"
   }
  }
 },
 "nbformat": 4,
 "nbformat_minor": 2
}
