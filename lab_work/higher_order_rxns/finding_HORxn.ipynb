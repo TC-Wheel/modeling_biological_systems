{
 "cells": [
  {
   "attachments": {},
   "cell_type": "markdown",
   "metadata": {},
   "source": [
    "Download LIME"
   ]
  }
 ],
 "metadata": {
  "kernelspec": {
   "display_name": "py311venv",
   "language": "python",
   "name": "python3"
  },
  "language_info": {
   "name": "python",
   "version": "3.10.5"
  },
  "orig_nbformat": 4,
  "vscode": {
   "interpreter": {
    "hash": "87704314012300030b837ecc89f805e07af8c57c7431e7fe27c1ac1eb186eb20"
   }
  }
 },
 "nbformat": 4,
 "nbformat_minor": 2
}
