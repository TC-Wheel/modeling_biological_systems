{
 "cells": [
  {
   "cell_type": "code",
   "execution_count": 1,
   "metadata": {},
   "outputs": [
    {
     "name": "stdout",
     "output_type": "stream",
     "text": [
      "hello world\n"
     ]
    }
   ],
   "source": [
    "print('hello world')"
   ]
  },
  {
   "cell_type": "code",
   "execution_count": 4,
   "metadata": {},
   "outputs": [
    {
     "name": "stdout",
     "output_type": "stream",
     "text": [
      "number of atoms in 1.0 grams of oxygen = 3.7640727545471587e+22\n"
     ]
    }
   ],
   "source": [
    "avs_numb = 6.02214*10**23\n",
    "grams = 1.0\n",
    "oxygen_mass = 15.999\n",
    "\n",
    "atoms = (grams/oxygen_mass) * avs_numb\n",
    "\n",
    "print(f'number of atoms in {grams} grams of oxygen = {atoms}')"
   ]
  },
  {
   "attachments": {},
   "cell_type": "markdown",
   "metadata": {},
   "source": [
    "Calculate the volume of a sphere with radius 5"
   ]
  },
  {
   "cell_type": "code",
   "execution_count": 6,
   "metadata": {},
   "outputs": [
    {
     "name": "stdout",
     "output_type": "stream",
     "text": [
      "sphere_area = 314.1592653589793 units cubed\n"
     ]
    }
   ],
   "source": [
    "import math\n",
    "\n",
    "r = 5.0\n",
    "sphere_area = 4*math.pi*r**2\n",
    "print(f'{sphere_area = } units cubed')"
   ]
  },
  {
   "attachments": {},
   "cell_type": "markdown",
   "metadata": {},
   "source": [
    "Write a function that calculates the volume of a sphere for any input radius"
   ]
  },
  {
   "cell_type": "code",
   "execution_count": null,
   "metadata": {},
   "outputs": [],
   "source": [
    "import math\n",
    "\n",
    "r = 5.0\n",
    "sphere_area = 4*math.pi*r**2\n",
    "print(f'{sphere_area = } units cubed')"
   ]
  },
  {
   "attachments": {},
   "cell_type": "markdown",
   "metadata": {},
   "source": [
    "Find all positive numbers given a list of numbers"
   ]
  },
  {
   "cell_type": "code",
   "execution_count": 20,
   "metadata": {},
   "outputs": [
    {
     "name": "stdout",
     "output_type": "stream",
     "text": [
      "positive numbers = [1, 2, 3, 4, 5, 0.5, 0.005, 3.141592653589793]\n"
     ]
    }
   ],
   "source": [
    "import math\n",
    "\n",
    "in_list = [1,2,3,4,5,-5,1/2,.005,math.pi]\n",
    "\n",
    "for i,num in enumerate(in_list):\n",
    "    if num > 0:\n",
    "        continue\n",
    "    if num <= 0:\n",
    "        in_list.pop(i)\n",
    "        continue\n",
    "    print('error: unable to sort number')\n",
    "\n",
    "print(f'positive numbers = {in_list}')"
   ]
  },
  {
   "attachments": {},
   "cell_type": "markdown",
   "metadata": {},
   "source": [
    "Calculate the length of a string (not using len)"
   ]
  },
  {
   "cell_type": "code",
   "execution_count": 10,
   "metadata": {},
   "outputs": [
    {
     "name": "stdout",
     "output_type": "stream",
     "text": [
      "12\n",
      "\"test bla bla\" has length 12.\n"
     ]
    }
   ],
   "source": [
    "in_string = 'test bla bla'\n",
    "count = 0\n",
    "\n",
    "for letter in in_string:\n",
    "    count += 1\n",
    "\n",
    "print(f'\"{in_string}\" has length {count}.')"
   ]
  },
  {
   "attachments": {},
   "cell_type": "markdown",
   "metadata": {},
   "source": [
    "Calculate the frequency of A, C, G, T in a DNA sequence"
   ]
  },
  {
   "cell_type": "code",
   "execution_count": 19,
   "metadata": {},
   "outputs": [
    {
     "name": "stdout",
     "output_type": "stream",
     "text": [
      "{'A': 2, 'T': 2, 'G': 4, 'C': 2, ' ': 2}\n"
     ]
    }
   ],
   "source": [
    "DNA_string = 'ATGCGGTACG'\n",
    "\n",
    "count_map = {}\n",
    "\n",
    "for nucleotide in DNA_string:\n",
    "    if nucleotide not in count_map:\n",
    "        count_map[nucleotide] = 1\n",
    "        continue\n",
    "    if nucleotide in count_map:\n",
    "        count_map[nucleotide] += 1\n",
    "        continue\n",
    "    print('error')\n",
    "\n",
    "print(count_map)\n"
   ]
  }
 ],
 "metadata": {
  "kernelspec": {
   "display_name": "py311venv",
   "language": "python",
   "name": "python3"
  },
  "language_info": {
   "codemirror_mode": {
    "name": "ipython",
    "version": 3
   },
   "file_extension": ".py",
   "mimetype": "text/x-python",
   "name": "python",
   "nbconvert_exporter": "python",
   "pygments_lexer": "ipython3",
   "version": "3.11.1"
  },
  "orig_nbformat": 4,
  "vscode": {
   "interpreter": {
    "hash": "7f3b638bb679a627aeac5d847359d8682e5603599e42e0d11e5755caef587bc0"
   }
  }
 },
 "nbformat": 4,
 "nbformat_minor": 2
}
