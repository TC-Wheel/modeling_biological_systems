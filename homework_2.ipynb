{
 "cells": [
  {
   "attachments": {},
   "cell_type": "markdown",
   "metadata": {},
   "source": [
    "# Homework 2"
   ]
  },
  {
   "attachments": {},
   "cell_type": "markdown",
   "metadata": {},
   "source": [
    "Biochem 570 - Tyson Wheelwright"
   ]
  },
  {
   "attachments": {},
   "cell_type": "markdown",
   "metadata": {},
   "source": [
    "## Section 1 - Python Functions"
   ]
  },
  {
   "attachments": {},
   "cell_type": "markdown",
   "metadata": {},
   "source": [
    "#### 1.1 Reverse Complement - Part 1"
   ]
  },
  {
   "attachments": {},
   "cell_type": "markdown",
   "metadata": {},
   "source": [
    "Transcend to power nerd status by writing your first function. It should use the template below, taking\n",
    "as input an uppercase DNA string and returning the reverse complement string. (If you’re an experienced\n",
    "Python user, ignore the hints and try to write the function smaller than my best effort: 128 characters, not\n",
    "including whitespace and comments.)"
   ]
  },
  {
   "cell_type": "code",
   "execution_count": null,
   "metadata": {},
   "outputs": [],
   "source": [
    "def reverse_complement(dna_string): # function header\n",
    "    base_pairs = {'A': 'T', 'C': 'G', 'G': 'C', 'T': 'A'}\n",
    "    reverse_complement_list = []\n",
    "    for i, base_pair in enumerate(dna_string):\n",
    "        complement = base_pairs[base_pair]\n",
    "        reverse_complement_list.append(complement)\n",
    "    return reverse_complement_list.join()\n",
    "\n",
    "\n",
    "\n",
    "\n",
    "\n",
    "\n",
    "\n",
    "    # indexing on the dict with a base returns the complement\n",
    "    # example: base_pairs['A'] returns 'T'\n",
    "    # initialize an empty list\n",
    "    # will turn into a string at the end\n",
    "    # for loop over dna_string backwards\n",
    "    # hint: reversed(STRING) returns\n",
    "    # the backwards string\n",
    "    # in the loop, append the complement\n",
    "    # of the current base to the list\n",
    "    # convert the list to a string with\n",
    "    # ''.join(LIST)\n",
    "    # return the string"
   ]
  }
 ],
 "metadata": {
  "kernelspec": {
   "display_name": "py311venv",
   "language": "python",
   "name": "python3"
  },
  "language_info": {
   "name": "python",
   "version": "3.11.1 (v3.11.1:a7a450f84a, Dec  6 2022, 15:24:06) [Clang 13.0.0 (clang-1300.0.29.30)]"
  },
  "orig_nbformat": 4,
  "vscode": {
   "interpreter": {
    "hash": "7f3b638bb679a627aeac5d847359d8682e5603599e42e0d11e5755caef587bc0"
   }
  }
 },
 "nbformat": 4,
 "nbformat_minor": 2
}
