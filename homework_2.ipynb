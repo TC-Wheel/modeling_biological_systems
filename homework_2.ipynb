{
 "cells": [
  {
   "attachments": {},
   "cell_type": "markdown",
   "metadata": {},
   "source": [
    "# Homework 2"
   ]
  },
  {
   "attachments": {},
   "cell_type": "markdown",
   "metadata": {},
   "source": [
    "Biochem 570 - Tyson Wheelwright"
   ]
  },
  {
   "attachments": {},
   "cell_type": "markdown",
   "metadata": {},
   "source": [
    "## Section 1 - Python Functions"
   ]
  },
  {
   "attachments": {},
   "cell_type": "markdown",
   "metadata": {},
   "source": [
    "#### 1.1 Reverse Complement - Part 1"
   ]
  },
  {
   "attachments": {},
   "cell_type": "markdown",
   "metadata": {},
   "source": [
    "Transcend to power nerd status by writing your first function. It should use the template below, taking\n",
    "as input an uppercase DNA string and returning the reverse complement string. (If you’re an experienced\n",
    "Python user, ignore the hints and try to write the function smaller than my best effort: 128 characters, not\n",
    "including whitespace and comments.)"
   ]
  },
  {
   "cell_type": "code",
   "execution_count": 3,
   "metadata": {},
   "outputs": [
    {
     "name": "stdout",
     "output_type": "stream",
     "text": [
      "gnirts\n"
     ]
    }
   ],
   "source": [
    "def reverse_complement(dna_string): # function header\n",
    "    base_pairs = {'A': 'T', 'C': 'G', 'G': 'C', 'T': 'A'}\n",
    "    reverse_complement_list = []\n",
    "    dna_string = dna_string[::-1]\n",
    "    for i, base_pair in enumerate(dna_string):\n",
    "        complement = base_pairs[base_pair]\n",
    "        reverse_complement_list.append(complement)\n",
    "    return reverse_complement_list.join()\n",
    "\n",
    "\n",
    "\n",
    "test = 'string'\n",
    "reverse = test[::-1]\n",
    "\n",
    "print(reverse)\n",
    "\n",
    "    # indexing on the dict with a base returns the complement\n",
    "    # example: base_pairs['A'] returns 'T'\n",
    "    # initialize an empty list\n",
    "    # will turn into a string at the end\n",
    "    # for loop over dna_string backwards\n",
    "    # hint: reversed(STRING) returns\n",
    "    # the backwards string\n",
    "    # in the loop, append the complement\n",
    "    # of the current base to the list\n",
    "    # convert the list to a string with\n",
    "    # ''.join(LIST)\n",
    "    # return the string"
   ]
  }
 ],
 "metadata": {
  "kernelspec": {
   "display_name": "py311venv",
   "language": "python",
   "name": "python3"
  },
  "language_info": {
   "codemirror_mode": {
    "name": "ipython",
    "version": 3
   },
   "file_extension": ".py",
   "mimetype": "text/x-python",
   "name": "python",
   "nbconvert_exporter": "python",
   "pygments_lexer": "ipython3",
   "version": "3.11.1"
  },
  "orig_nbformat": 4,
  "vscode": {
   "interpreter": {
    "hash": "7f3b638bb679a627aeac5d847359d8682e5603599e42e0d11e5755caef587bc0"
   }
  }
 },
 "nbformat": 4,
 "nbformat_minor": 2
}
